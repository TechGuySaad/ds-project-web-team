{
 "cells": [
  {
   "cell_type": "code",
   "execution_count": 3,
   "metadata": {},
   "outputs": [
    {
     "name": "stdout",
     "output_type": "stream",
     "text": [
      " * Serving Flask app '__main__'\n",
      " * Debug mode: off\n"
     ]
    },
    {
     "name": "stderr",
     "output_type": "stream",
     "text": [
      "WARNING: This is a development server. Do not use it in a production deployment. Use a production WSGI server instead.\n",
      " * Running on http://127.0.0.1:5001\n",
      "Press CTRL+C to quit\n",
      "127.0.0.1 - - [05/Dec/2024 04:40:18] \"GET /api/data/Lahore HTTP/1.1\" 200 -\n",
      "127.0.0.1 - - [05/Dec/2024 04:40:18] \"GET /api/data/Lahore HTTP/1.1\" 200 -\n",
      "127.0.0.1 - - [05/Dec/2024 04:40:20] \"GET /api/data/Islamabad HTTP/1.1\" 200 -\n",
      "127.0.0.1 - - [05/Dec/2024 04:40:21] \"GET /api/data/Karachi HTTP/1.1\" 200 -\n",
      "127.0.0.1 - - [05/Dec/2024 04:40:22] \"GET /api/data/Lahore HTTP/1.1\" 200 -\n",
      "127.0.0.1 - - [05/Dec/2024 04:40:23] \"GET /api/data/Peshawar HTTP/1.1\" 200 -\n",
      "127.0.0.1 - - [05/Dec/2024 04:40:24] \"GET /api/data/Quetta HTTP/1.1\" 200 -\n",
      "127.0.0.1 - - [05/Dec/2024 04:42:11] \"GET /api/data/Lahore HTTP/1.1\" 200 -\n",
      "127.0.0.1 - - [05/Dec/2024 04:42:11] \"GET /api/data/Lahore HTTP/1.1\" 200 -\n",
      "127.0.0.1 - - [05/Dec/2024 04:42:13] \"GET /api/data/Islamabad HTTP/1.1\" 200 -\n",
      "127.0.0.1 - - [05/Dec/2024 04:42:14] \"GET /api/data/Karachi HTTP/1.1\" 200 -\n",
      "127.0.0.1 - - [05/Dec/2024 04:42:14] \"GET /api/data/Lahore HTTP/1.1\" 200 -\n",
      "127.0.0.1 - - [05/Dec/2024 04:42:15] \"GET /api/data/Peshawar HTTP/1.1\" 200 -\n",
      "127.0.0.1 - - [05/Dec/2024 04:42:16] \"GET /api/data/Quetta HTTP/1.1\" 200 -\n",
      "127.0.0.1 - - [05/Dec/2024 04:43:35] \"GET /api/data/Lahore HTTP/1.1\" 200 -\n",
      "127.0.0.1 - - [05/Dec/2024 04:43:35] \"GET /api/data/Lahore HTTP/1.1\" 200 -\n",
      "127.0.0.1 - - [05/Dec/2024 04:58:29] \"GET /api/data/Lahore HTTP/1.1\" 200 -\n",
      "127.0.0.1 - - [05/Dec/2024 04:58:29] \"GET /api/data/Lahore HTTP/1.1\" 200 -\n",
      "127.0.0.1 - - [05/Dec/2024 04:58:31] \"GET /api/data/Islamabad HTTP/1.1\" 200 -\n",
      "127.0.0.1 - - [05/Dec/2024 04:58:32] \"GET /api/data/Karachi HTTP/1.1\" 200 -\n",
      "127.0.0.1 - - [05/Dec/2024 04:58:33] \"GET /api/data/Peshawar HTTP/1.1\" 200 -\n",
      "127.0.0.1 - - [05/Dec/2024 04:58:34] \"GET /api/data/Quetta HTTP/1.1\" 200 -\n",
      "127.0.0.1 - - [05/Dec/2024 04:58:38] \"GET /api/data/Lahore HTTP/1.1\" 200 -\n",
      "127.0.0.1 - - [05/Dec/2024 04:58:38] \"GET /api/data/Lahore HTTP/1.1\" 200 -\n",
      "127.0.0.1 - - [05/Dec/2024 04:58:39] \"GET /api/data/Islamabad HTTP/1.1\" 200 -\n",
      "127.0.0.1 - - [05/Dec/2024 05:00:02] \"GET /api/data/Lahore HTTP/1.1\" 200 -\n",
      "127.0.0.1 - - [05/Dec/2024 05:00:02] \"GET /api/data/Lahore HTTP/1.1\" 200 -\n",
      "127.0.0.1 - - [05/Dec/2024 05:01:24] \"GET /api/data/Lahore HTTP/1.1\" 200 -\n",
      "127.0.0.1 - - [05/Dec/2024 05:01:25] \"GET /api/data/Lahore HTTP/1.1\" 200 -\n",
      "127.0.0.1 - - [05/Dec/2024 05:01:28] \"GET /api/data/Islamabad HTTP/1.1\" 200 -\n"
     ]
    }
   ],
   "source": [
    "from flask import Flask, jsonify, request\n",
    "import pandas as pd\n",
    "from flask_cors import CORS\n",
    "\n",
    "app = Flask(__name__)\n",
    "CORS(app)\n",
    "\n",
    "# Load the combined CSV data\n",
    "file_path = 'combined_data.csv'  # Ensure this file exists in the same directory\n",
    "data = pd.read_csv(file_path)\n",
    "\n",
    "# Convert 'date' column to datetime for filtering and consistency\n",
    "data['date'] = pd.to_datetime(data['date'], errors='coerce')\n",
    "\n",
    "@app.route('/api/data/<city>', methods=['GET'])\n",
    "def get_city_data(city):\n",
    "    \"\"\"\n",
    "    Serve temperature trend data for a specific city.\n",
    "    \"\"\"\n",
    "    # Filter data for the selected city (case insensitive)\n",
    "    city_data = data[data['city'].str.lower() == city.lower()]\n",
    "\n",
    "    if city_data.empty:\n",
    "        return jsonify({\"error\": f\"No data available for city '{city}'\"}), 404\n",
    "\n",
    "    # Prepare the response with relevant data\n",
    "    response = {\n",
    "        \"dates\": city_data['date'].dt.strftime('%Y-%m-%d').tolist(),\n",
    "        \"avg_temp\": city_data['avg_temp'].tolist(),\n",
    "        \"min_temp\": city_data['min_temp'].tolist(),\n",
    "        \"max_temp\": city_data['max_temp'].tolist(),\n",
    "        \"prcp\": city_data['prcp'].tolist(),\n",
    "        \"snow\": city_data['snow'].tolist(),\n",
    "        \"wind_spd\": city_data['wind_spd'].tolist(),\n",
    "        \"p_gust\": city_data['p_gust'].tolist(),\n",
    "        \"air_pres\": city_data['air_pres'].tolist(),\n",
    "        \"sun_time\": city_data['sun_time'].tolist(),\n",
    "    }\n",
    "    return jsonify(response)\n",
    "\n",
    "if __name__ == '__main__':\n",
    "    app.run(debug=False,port=5001)\n"
   ]
  },
  {
   "cell_type": "code",
   "execution_count": null,
   "metadata": {},
   "outputs": [],
   "source": []
  }
 ],
 "metadata": {
  "kernelspec": {
   "display_name": "Python 3",
   "language": "python",
   "name": "python3"
  },
  "language_info": {
   "codemirror_mode": {
    "name": "ipython",
    "version": 3
   },
   "file_extension": ".py",
   "mimetype": "text/x-python",
   "name": "python",
   "nbconvert_exporter": "python",
   "pygments_lexer": "ipython3",
   "version": "3.11.9"
  }
 },
 "nbformat": 4,
 "nbformat_minor": 2
}
